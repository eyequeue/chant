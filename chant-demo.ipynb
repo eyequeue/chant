{
 "cells": [
  {
   "cell_type": "markdown",
   "metadata": {},
   "source": [
    "# Welcome to the Jupyter server for MUSI 986\n",
    "\n",
    "Click the \"Run\" button above and see what happens. We'll take it from there in class."
   ]
  },
  {
   "cell_type": "code",
   "execution_count": 18,
   "metadata": {},
   "outputs": [],
   "source": [
    "import chant\n",
    "\n",
    "import pandas as pd\n",
    "\n",
    "from IPython.core.display import display, HTML"
   ]
  },
  {
   "cell_type": "markdown",
   "metadata": {},
   "source": [
    "# LMLO Basics\n",
    "\n",
    "The Late Medieval Offices Corpus is an electronic corpus curated by Andrew Hughes that is no longer accessible in its original form. The `chant` module (imported by the first line in this notebook) provides convenient access to the LMLO data using the `pandas` data infrastructure (imported by the second line). Don't worry about the third line for now.\n",
    "\n",
    "### `cd = chant.chantData`\n",
    "\n",
    "The `chant` module provides two data tables. The first, formally known as `chant.chantData` and `cd` for short, contains one row for each of the nearly 6000 chants in the corpus. The columns correspond to data attributes for each chant: its source, mode, text, and liturgical metadata (office, service, ordinal, genre), as well as Hughes's original encoding and an intermediate encoding (volpiano) used for notation and searching.\n"
   ]
  },
  {
   "cell_type": "code",
   "execution_count": 19,
   "metadata": {},
   "outputs": [],
   "source": [
    "chant.chantData.to_pickle('chantData.zip')\n",
    "chant.noteData.to_pickle('noteData.zip')\n"
   ]
  },
  {
   "cell_type": "code",
   "execution_count": null,
   "metadata": {},
   "outputs": [],
   "source": [
    "cd = chant.chantData\n",
    "\n",
    "\n",
    "pd.set_option('display.max_rows', 6)\n",
    "display(cd)"
   ]
  },
  {
   "cell_type": "markdown",
   "metadata": {},
   "source": [
    "### `nd = chant.noteData`\n",
    "The second data table, which is much longer, contains one row for each note in each chant. The output below should give you an indication of how long this table is. We'll go over its data attributes in class.\n",
    "\n",
    "Try changing the number in the cell below to another number. Re-run the cell by hitting shift-enter, or the Run button above. What's different?"
   ]
  },
  {
   "cell_type": "code",
   "execution_count": null,
   "metadata": {},
   "outputs": [],
   "source": [
    "nd = chant.noteData\n",
    "\n",
    "pd.set_option('display.max_rows', 20)\n",
    "display(nd)\n"
   ]
  },
  {
   "cell_type": "markdown",
   "metadata": {},
   "source": [
    "# Some basic descriptive analysis\n",
    "\n",
    "What's the highest number in the `word` column? Add 1 to it and it's the answer to the question \"what's the greatest number of words any chant in the corpus has?\" (Why do we have to add 1?)"
   ]
  },
  {
   "cell_type": "code",
   "execution_count": null,
   "metadata": {},
   "outputs": [],
   "source": [
    "max(nd.word)"
   ]
  },
  {
   "cell_type": "markdown",
   "metadata": {},
   "source": [
    "What's the highest number in the `syll` column? Suppose we add 1 to it: what question is this [theoretically] answering?"
   ]
  },
  {
   "cell_type": "code",
   "execution_count": null,
   "metadata": {},
   "outputs": [],
   "source": [
    "max(nd.syll)"
   ]
  },
  {
   "cell_type": "markdown",
   "metadata": {},
   "source": [
    "Same question for `note`."
   ]
  },
  {
   "cell_type": "code",
   "execution_count": null,
   "metadata": {},
   "outputs": [],
   "source": [
    "max(nd.note)"
   ]
  },
  {
   "cell_type": "markdown",
   "metadata": {},
   "source": [
    "# A thing about Jupyter \n",
    "\n",
    "Compare the output here:"
   ]
  },
  {
   "cell_type": "code",
   "execution_count": null,
   "metadata": {},
   "outputs": [],
   "source": [
    "max(nd.note)\n",
    "max(nd.syll)\n",
    "max(nd.word)"
   ]
  },
  {
   "cell_type": "raw",
   "metadata": {},
   "source": [
    "with the output here:"
   ]
  },
  {
   "cell_type": "code",
   "execution_count": null,
   "metadata": {},
   "outputs": [],
   "source": [
    "display(max(nd.note))\n",
    "display(max(nd.syll))\n",
    "display(max(nd.word))"
   ]
  },
  {
   "cell_type": "markdown",
   "metadata": {},
   "source": [
    "and with these:"
   ]
  },
  {
   "cell_type": "code",
   "execution_count": null,
   "metadata": {},
   "outputs": [],
   "source": [
    "display(max(nd.note))\n",
    "display(max(nd.syll))\n",
    "max(nd.word)"
   ]
  },
  {
   "cell_type": "code",
   "execution_count": null,
   "metadata": {},
   "outputs": [],
   "source": [
    "display(max(nd.note))\n",
    "max(nd.syll)\n",
    "display(max(nd.word))"
   ]
  },
  {
   "cell_type": "code",
   "execution_count": null,
   "metadata": {},
   "outputs": [],
   "source": [
    "max(nd.note)\n",
    "display(max(nd.syll))\n",
    "display(max(nd.word))"
   ]
  },
  {
   "cell_type": "markdown",
   "metadata": {},
   "source": [
    "Can you figure out what's going on here? What patterns do you notice?"
   ]
  },
  {
   "cell_type": "markdown",
   "metadata": {},
   "source": [
    "# More stuff to play with"
   ]
  },
  {
   "cell_type": "code",
   "execution_count": null,
   "metadata": {},
   "outputs": [],
   "source": [
    "pd.set_option('display.max_rows', 500)\n",
    "nd.loc[nd['syll'] >= 8]"
   ]
  },
  {
   "cell_type": "code",
   "execution_count": null,
   "metadata": {},
   "outputs": [],
   "source": [
    "nd.loc[nd['text'] == 'edificabuntur']"
   ]
  },
  {
   "cell_type": "code",
   "execution_count": null,
   "metadata": {},
   "outputs": [],
   "source": [
    "display(pd.crosstab(cd.Service, cd.subcorpus, margins=True))\n",
    "display(pd.crosstab(cd.Service, cd.subcorpus, normalize='columns', margins=True))\n",
    "display(pd.crosstab(cd.Service, cd.subcorpus, normalize='index', margins=True))"
   ]
  },
  {
   "cell_type": "code",
   "execution_count": null,
   "metadata": {},
   "outputs": [],
   "source": [
    "display(pd.crosstab(cd.service, cd.Service, margins=True))\n",
    "display(pd.crosstab(cd.genre, cd.Genre, margins=True))\n",
    "display(pd.crosstab(cd.Modus, cd.subcorpus))"
   ]
  }
 ],
 "metadata": {
  "kernelspec": {
   "display_name": "Python 3",
   "language": "python",
   "name": "python3"
  },
  "language_info": {
   "codemirror_mode": {
    "name": "ipython",
    "version": 3
   },
   "file_extension": ".py",
   "mimetype": "text/x-python",
   "name": "python",
   "nbconvert_exporter": "python",
   "pygments_lexer": "ipython3",
   "version": "3.7.3"
  }
 },
 "nbformat": 4,
 "nbformat_minor": 2
}
