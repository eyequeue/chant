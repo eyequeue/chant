{
 "cells": [
  {
   "cell_type": "code",
   "execution_count": 2,
   "metadata": {},
   "outputs": [
    {
     "ename": "NameError",
     "evalue": "name 'numpy' is not defined",
     "output_type": "error",
     "traceback": [
      "\u001b[0;31m---------------------------------------------------------------------------\u001b[0m",
      "\u001b[0;31mNameError\u001b[0m                                 Traceback (most recent call last)",
      "\u001b[0;32m<ipython-input-2-4e701f1053ed>\u001b[0m in \u001b[0;36m<module>\u001b[0;34m\u001b[0m\n\u001b[1;32m      3\u001b[0m \u001b[0;32mimport\u001b[0m \u001b[0mpandas\u001b[0m \u001b[0;32mas\u001b[0m \u001b[0mpd\u001b[0m\u001b[0;34m\u001b[0m\u001b[0;34m\u001b[0m\u001b[0m\n\u001b[1;32m      4\u001b[0m \u001b[0;34m\u001b[0m\u001b[0m\n\u001b[0;32m----> 5\u001b[0;31m \u001b[0mchant\u001b[0m\u001b[0;34m.\u001b[0m\u001b[0mrecalculate\u001b[0m\u001b[0;34m(\u001b[0m\u001b[0;34m)\u001b[0m\u001b[0;34m\u001b[0m\u001b[0;34m\u001b[0m\u001b[0m\n\u001b[0m\u001b[1;32m      6\u001b[0m \u001b[0mcd\u001b[0m \u001b[0;34m=\u001b[0m \u001b[0mchant\u001b[0m\u001b[0;34m.\u001b[0m\u001b[0mchantData\u001b[0m\u001b[0;34m(\u001b[0m\u001b[0;34m)\u001b[0m\u001b[0;34m\u001b[0m\u001b[0;34m\u001b[0m\u001b[0m\n\u001b[1;32m      7\u001b[0m \u001b[0mnd\u001b[0m \u001b[0;34m=\u001b[0m \u001b[0mchant\u001b[0m\u001b[0;34m.\u001b[0m\u001b[0mnoteData\u001b[0m\u001b[0;34m(\u001b[0m\u001b[0;34m)\u001b[0m\u001b[0;34m\u001b[0m\u001b[0;34m\u001b[0m\u001b[0m\n",
      "\u001b[0;32m~/research/!FRONT BURNER/LUDUS TONALIS NOVUS/1 Gregorian chant/data/yale-lmlo-tools/webapp/github/chant/chant.py\u001b[0m in \u001b[0;36mrecalculate\u001b[0;34m()\u001b[0m\n\u001b[1;32m    107\u001b[0m \u001b[0;34m\u001b[0m\u001b[0m\n\u001b[1;32m    108\u001b[0m                     \u001b[0;32mif\u001b[0m \u001b[0mi\u001b[0m \u001b[0;34m==\u001b[0m \u001b[0;36m1\u001b[0m\u001b[0;34m:\u001b[0m\u001b[0;34m\u001b[0m\u001b[0;34m\u001b[0m\u001b[0m\n\u001b[0;32m--> 109\u001b[0;31m                         \u001b[0m_data\u001b[0m\u001b[0;34m[\u001b[0m\u001b[0;34m'lint'\u001b[0m\u001b[0;34m]\u001b[0m\u001b[0;34m.\u001b[0m\u001b[0mappend\u001b[0m\u001b[0;34m(\u001b[0m\u001b[0mnumpy\u001b[0m\u001b[0;34m.\u001b[0m\u001b[0mNaN\u001b[0m\u001b[0;34m)\u001b[0m\u001b[0;34m\u001b[0m\u001b[0;34m\u001b[0m\u001b[0m\n\u001b[0m\u001b[1;32m    110\u001b[0m                     \u001b[0;32melse\u001b[0m\u001b[0;34m:\u001b[0m\u001b[0;34m\u001b[0m\u001b[0;34m\u001b[0m\u001b[0m\n\u001b[1;32m    111\u001b[0m                         \u001b[0m_data\u001b[0m\u001b[0;34m[\u001b[0m\u001b[0;34m'lint'\u001b[0m\u001b[0;34m]\u001b[0m\u001b[0;34m.\u001b[0m\u001b[0mappend\u001b[0m\u001b[0;34m(\u001b[0m\u001b[0mpindex\u001b[0m\u001b[0;34m(\u001b[0m\u001b[0mc\u001b[0m\u001b[0;34m.\u001b[0m\u001b[0mflatLetter\u001b[0m\u001b[0;34m[\u001b[0m\u001b[0mi\u001b[0m\u001b[0;34m]\u001b[0m\u001b[0;34m)\u001b[0m \u001b[0;34m-\u001b[0m \u001b[0mpindex\u001b[0m\u001b[0;34m(\u001b[0m\u001b[0mc\u001b[0m\u001b[0;34m.\u001b[0m\u001b[0mflatLetter\u001b[0m\u001b[0;34m[\u001b[0m\u001b[0mi\u001b[0m\u001b[0;34m-\u001b[0m\u001b[0;36m1\u001b[0m\u001b[0;34m]\u001b[0m\u001b[0;34m)\u001b[0m\u001b[0;34m)\u001b[0m\u001b[0;34m\u001b[0m\u001b[0;34m\u001b[0m\u001b[0m\n",
      "\u001b[0;31mNameError\u001b[0m: name 'numpy' is not defined"
     ]
    }
   ],
   "source": [
    "import chant\n",
    "import pandas as pd\n",
    "\n",
    "chant.recalculate()\n",
    "cd = chant.chantData()\n",
    "nd = chant.noteData()"
   ]
  },
  {
   "cell_type": "code",
   "execution_count": null,
   "metadata": {},
   "outputs": [],
   "source": [
    "cd.columns"
   ]
  },
  {
   "cell_type": "markdown",
   "metadata": {},
   "source": [
    "## Frequency tables with `value_counts()`\n",
    "The pandas function `value_counts()` is the easiest way to generate a frequency table for the entries in a particular column of a dataframe. The syntax is `dataframe.column.value_counts()`: let's use it to get counts of chants by modal assignment. (Since the keyword \"mode\" has a special statistical meaning in pandas, this column is called `modus` rather than `mode`.)"
   ]
  },
  {
   "cell_type": "code",
   "execution_count": null,
   "metadata": {},
   "outputs": [],
   "source": [
    "cd.modus.value_counts()"
   ]
  },
  {
   "cell_type": "markdown",
   "metadata": {},
   "source": [
    "### Exercise\n",
    "Try making a frequency table of of chants by office."
   ]
  },
  {
   "cell_type": "markdown",
   "metadata": {},
   "source": [
    "The `chant` module provides two lists"
   ]
  },
  {
   "cell_type": "code",
   "execution_count": null,
   "metadata": {},
   "outputs": [],
   "source": [
    "display(cd.query(f'modus in {chant.psalmTones}').modus.value_counts())"
   ]
  },
  {
   "cell_type": "code",
   "execution_count": null,
   "metadata": {},
   "outputs": [],
   "source": [
    "display(chant.basicModes)\n",
    "display(chant.psalmTones)\n",
    "cd['chantID'] = cd.index"
   ]
  },
  {
   "cell_type": "code",
   "execution_count": null,
   "metadata": {},
   "outputs": [],
   "source": [
    "nd.columns"
   ]
  },
  {
   "cell_type": "code",
   "execution_count": null,
   "metadata": {},
   "outputs": [],
   "source": [
    "# cd\n",
    "\n",
    "# pd.set_option('precision', 3)\n",
    "# pd.set_option('chop_threshold', .01)\n",
    "pd.set_option('display.float_format', lambda x: str(int(x*100)))\n",
    "for aspect in ['abs', 'rel']:\n",
    "    pc  = 'pc_'  + aspect\n",
    "    reg = 'reg_' + aspect\n",
    "    notes = nd[['chantID', reg, pc]]\n",
    "    notes['pitch'] = notes[reg] + '.' + notes[pc]\n",
    "    \n",
    "\n",
    "    chants = cd[cd.modus.isin(['1d','3e','5f','7g'])][['chantID','modus', 'subcorpus']]\n",
    "    results = chants.merge(notes, on ='chantID')\n",
    "\n",
    "    display(pd.crosstab(results.modus, results.pitch, normalize = 'index'))\n",
    "\n",
    "    chants = cd[cd.modus.isin(['2d','4e','6f','6c','8g'])][['chantID','modus', 'subcorpus']]\n",
    "    results = chants.merge(notes, on ='chantID')\n",
    "\n",
    "    display(pd.crosstab(results.modus, results.pitch, normalize = 'index'))"
   ]
  },
  {
   "cell_type": "code",
   "execution_count": null,
   "metadata": {},
   "outputs": [],
   "source": [
    "cd.subcorpus.value_counts()"
   ]
  },
  {
   "cell_type": "code",
   "execution_count": null,
   "metadata": {},
   "outputs": [],
   "source": [
    "ps = cd[cd.modus.isin(chant.basicModes)]\n",
    "pd.crosstab(ps.modus, ps.subcorpus)\n",
    "ps"
   ]
  },
  {
   "cell_type": "code",
   "execution_count": null,
   "metadata": {},
   "outputs": [],
   "source": [
    "\n",
    "\n",
    "ps = cd.query(f'modus in {chant.psalmTones}')\n",
    "pd.crosstab(ps.modus, ps.subcorpus)"
   ]
  },
  {
   "cell_type": "code",
   "execution_count": null,
   "metadata": {},
   "outputs": [],
   "source": [
    "nd.pc_abs.value_counts()"
   ]
  },
  {
   "cell_type": "code",
   "execution_count": null,
   "metadata": {},
   "outputs": [],
   "source": [
    "nd.pc_rel.value_counts()"
   ]
  },
  {
   "cell_type": "code",
   "execution_count": null,
   "metadata": {},
   "outputs": [],
   "source": [
    "ps = cd[cd.modus.isin(['6f','6c','4e','4a'])]\n",
    "pd.crosstab(ps.modus, ps.subcorpus, normalize = 'index')"
   ]
  },
  {
   "cell_type": "code",
   "execution_count": null,
   "metadata": {
    "scrolled": false
   },
   "outputs": [],
   "source": [
    "display(chant.fullGenre)\n",
    "display(chant.fullService)\n",
    "pd.crosstab(ps.service, ps.genre, normalize = 'index')"
   ]
  },
  {
   "cell_type": "code",
   "execution_count": null,
   "metadata": {},
   "outputs": [],
   "source": [
    "cd.query(f'modus in {chant.psalmTones}')"
   ]
  },
  {
   "cell_type": "code",
   "execution_count": null,
   "metadata": {},
   "outputs": [],
   "source": []
  }
 ],
 "metadata": {
  "kernelspec": {
   "display_name": "Python 3",
   "language": "python",
   "name": "python3"
  },
  "language_info": {
   "codemirror_mode": {
    "name": "ipython",
    "version": 3
   },
   "file_extension": ".py",
   "mimetype": "text/x-python",
   "name": "python",
   "nbconvert_exporter": "python",
   "pygments_lexer": "ipython3",
   "version": "3.7.3"
  }
 },
 "nbformat": 4,
 "nbformat_minor": 2
}
